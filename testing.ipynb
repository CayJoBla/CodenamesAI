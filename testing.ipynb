{
 "cells": [
  {
   "cell_type": "code",
   "execution_count": 1,
   "metadata": {},
   "outputs": [],
   "source": [
    "from codenames.gym import CodenamesEnv\n",
    "\n",
    "env = CodenamesEnv()"
   ]
  },
  {
   "cell_type": "code",
   "execution_count": 2,
   "metadata": {},
   "outputs": [
    {
     "data": {
      "text/plain": [
       "{'board': [<Color.RED: 0>,\n",
       "  <Color.NEUTRAL: 2>,\n",
       "  <Color.RED: 0>,\n",
       "  <Color.NEUTRAL: 2>,\n",
       "  <Color.BLUE: 1>,\n",
       "  <Color.NEUTRAL: 2>,\n",
       "  <Color.BLUE: 1>,\n",
       "  <Color.BLUE: 1>,\n",
       "  <Color.RED: 0>,\n",
       "  <Color.RED: 0>,\n",
       "  <Color.BLUE: 1>,\n",
       "  <Color.NEUTRAL: 2>,\n",
       "  <Color.RED: 0>,\n",
       "  <Color.BLUE: 1>,\n",
       "  <Color.BLUE: 1>,\n",
       "  <Color.NEUTRAL: 2>,\n",
       "  <Color.RED: 0>,\n",
       "  <Color.BLUE: 1>,\n",
       "  <Color.BLUE: 1>,\n",
       "  <Color.RED: 0>,\n",
       "  <Color.ASSASSIN: 3>,\n",
       "  <Color.NEUTRAL: 2>,\n",
       "  <Color.RED: 0>,\n",
       "  <Color.NEUTRAL: 2>,\n",
       "  <Color.RED: 0>],\n",
       " 'words': ['WIND',\n",
       "  'LIFE',\n",
       "  'BILL',\n",
       "  'CHECK',\n",
       "  'WASHINGTON',\n",
       "  'ROCK',\n",
       "  'GLASS',\n",
       "  'SOUND',\n",
       "  'MASS',\n",
       "  'FORCE',\n",
       "  'NET',\n",
       "  'HOOK',\n",
       "  'SNOWMAN',\n",
       "  'NEEDLE',\n",
       "  'TOOTH',\n",
       "  'SPACE',\n",
       "  'PLATE',\n",
       "  'BEAT',\n",
       "  'DOG',\n",
       "  'SPOT',\n",
       "  'PIT',\n",
       "  'RULER',\n",
       "  'DICE',\n",
       "  'BLOCK',\n",
       "  'AMBULANCE'],\n",
       " 'guessed': [False,\n",
       "  False,\n",
       "  False,\n",
       "  False,\n",
       "  False,\n",
       "  False,\n",
       "  False,\n",
       "  False,\n",
       "  False,\n",
       "  False,\n",
       "  False,\n",
       "  False,\n",
       "  False,\n",
       "  False,\n",
       "  False,\n",
       "  False,\n",
       "  False,\n",
       "  False,\n",
       "  False,\n",
       "  False,\n",
       "  False,\n",
       "  False,\n",
       "  False,\n",
       "  False,\n",
       "  False],\n",
       " 'turn': (<Team.RED: 0>, <Role.SPYMASTER: 0>)}"
      ]
     },
     "execution_count": 2,
     "metadata": {},
     "output_type": "execute_result"
    }
   ],
   "source": [
    "env.state"
   ]
  },
  {
   "cell_type": "code",
   "execution_count": 3,
   "metadata": {},
   "outputs": [
    {
     "name": "stderr",
     "output_type": "stream",
     "text": [
      "WARNING:root:A <class 'transformers.models.llama.modeling_llama.LlamaForCausalLM'> model is loaded from 'meta-llama/Llama-3.2-1B-Instruct', and no v_head weight is found. This IS expected if you are not resuming PPO training.\n",
      "/home/yungdankblast/anaconda3/envs/codenames_ai/lib/python3.12/site-packages/trl/trainer/ppo_config.py:207: FutureWarning: `PPOConfig` is deprecated and will be removed in the future. Please use `PPOv2Config` with `PPOv2Trainer` instead.\n",
      "  warnings.warn(\n",
      "/home/yungdankblast/anaconda3/envs/codenames_ai/lib/python3.12/site-packages/trl/trainer/ppo_trainer.py:193: FutureWarning: `PPOTrainer` is deprecated and will be removed in trl v0.12. Please use `PPOv2Trainer` instead.\n",
      "  warnings.warn(\n",
      "/home/yungdankblast/anaconda3/envs/codenames_ai/lib/python3.12/site-packages/trl/trainer/ppo_trainer.py:273: UserWarning: No dataset is provided. Make sure to set config.batch_size to the correct value before training.\n",
      "  warnings.warn(\n"
     ]
    }
   ],
   "source": [
    "from codenames.agents import Spymaster\n",
    "from codenames.constants import Team\n",
    "\n",
    "spymaster = Spymaster(team=Team.RED, model_name_or_path=\"meta-llama/Llama-3.2-1B-Instruct\")"
   ]
  },
  {
   "cell_type": "code",
   "execution_count": 4,
   "metadata": {},
   "outputs": [
    {
     "name": "stdout",
     "output_type": "stream",
     "text": [
      "You are the playing the game Codenames.\n",
      "Your role is the RED team's SPYMASTER.\n",
      "Please provide a hint to the operatives on your team such that they guess the RED Team's words without guessing any of the other team's words, neutral words, or the assassin word(s).\n",
      "Do not use a hint word that is already on the board.\n",
      "Provide your hint in the format \"HINT COUNT\".\n",
      "\n",
      "Board State:\n",
      "RED Words:\n",
      "WIND\n",
      "BILL\n",
      "MASS\n",
      "FORCE\n",
      "SNOWMAN\n",
      "PLATE\n",
      "SPOT\n",
      "DICE\n",
      "AMBULANCE\n",
      "\n",
      "BLUE Words:\n",
      "WASHINGTON\n",
      "GLASS\n",
      "SOUND\n",
      "NET\n",
      "NEEDLE\n",
      "TOOTH\n",
      "BEAT\n",
      "DOG\n",
      "\n",
      "NEUTRAL Words:\n",
      "LIFE\n",
      "CHECK\n",
      "ROCK\n",
      "HOOK\n",
      "SPACE\n",
      "RULER\n",
      "BLOCK\n",
      "\n",
      "ASSASSIN Words:\n",
      "PIT\n",
      "\n",
      "Your Hint: \n"
     ]
    }
   ],
   "source": [
    "print(spymaster.get_prompt(env.state))"
   ]
  },
  {
   "cell_type": "code",
   "execution_count": 5,
   "metadata": {},
   "outputs": [
    {
     "name": "stderr",
     "output_type": "stream",
     "text": [
      "The attention mask is not set and cannot be inferred from input because pad token is same as eos token. As a consequence, you may observe unexpected behavior. Please pass your input's `attention_mask` to obtain reliable results.\n",
      "Starting from v4.46, the `logits` model output will have the same type as the model (except at train time, where it will always be FP32)\n"
     ]
    },
    {
     "data": {
      "text/plain": [
       "\"1\\n\\nPlease provide the hint for RED Team's word #1: WIND.\\n\\nHint Count: 1\\n\\nI still have the RED Team's word #1: WIND. You can guess the word or give another hint.<|eot_id|>\""
      ]
     },
     "execution_count": 5,
     "metadata": {},
     "output_type": "execute_result"
    }
   ],
   "source": [
    "spymaster.get_action(env.state)"
   ]
  },
  {
   "cell_type": "code",
   "execution_count": null,
   "metadata": {},
   "outputs": [],
   "source": []
  }
 ],
 "metadata": {
  "kernelspec": {
   "display_name": "codenames_ai",
   "language": "python",
   "name": "python3"
  },
  "language_info": {
   "codemirror_mode": {
    "name": "ipython",
    "version": 3
   },
   "file_extension": ".py",
   "mimetype": "text/x-python",
   "name": "python",
   "nbconvert_exporter": "python",
   "pygments_lexer": "ipython3",
   "version": "3.12.7"
  }
 },
 "nbformat": 4,
 "nbformat_minor": 2
}
