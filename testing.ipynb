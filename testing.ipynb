{
 "cells": [
  {
   "cell_type": "code",
   "execution_count": 1,
   "metadata": {},
   "outputs": [],
   "source": [
    "from codenames.gym import CodenamesEnv\n",
    "\n",
    "env = CodenamesEnv()"
   ]
  },
  {
   "cell_type": "code",
   "execution_count": 2,
   "metadata": {},
   "outputs": [
    {
     "data": {
      "text/plain": [
       "{'board': [<Color.NEUTRAL: 2>,\n",
       "  <Color.BLUE: 1>,\n",
       "  <Color.BLUE: 1>,\n",
       "  <Color.BLUE: 1>,\n",
       "  <Color.ASSASSIN: 3>,\n",
       "  <Color.RED: 0>,\n",
       "  <Color.BLUE: 1>,\n",
       "  <Color.NEUTRAL: 2>,\n",
       "  <Color.NEUTRAL: 2>,\n",
       "  <Color.RED: 0>,\n",
       "  <Color.BLUE: 1>,\n",
       "  <Color.RED: 0>,\n",
       "  <Color.NEUTRAL: 2>,\n",
       "  <Color.BLUE: 1>,\n",
       "  <Color.RED: 0>,\n",
       "  <Color.BLUE: 1>,\n",
       "  <Color.RED: 0>,\n",
       "  <Color.BLUE: 1>,\n",
       "  <Color.NEUTRAL: 2>,\n",
       "  <Color.RED: 0>,\n",
       "  <Color.RED: 0>,\n",
       "  <Color.NEUTRAL: 2>,\n",
       "  <Color.RED: 0>,\n",
       "  <Color.NEUTRAL: 2>,\n",
       "  <Color.RED: 0>],\n",
       " 'words': ['KEY',\n",
       "  'PILOT',\n",
       "  'TEMPLE',\n",
       "  'SKYSCRAPER',\n",
       "  'LAWYER',\n",
       "  'DAY',\n",
       "  'WAR',\n",
       "  'YARD',\n",
       "  'FLY',\n",
       "  'LIGHT',\n",
       "  'PIPE',\n",
       "  'SPY',\n",
       "  'KING',\n",
       "  'DEATH',\n",
       "  'STADIUM',\n",
       "  'SNOW',\n",
       "  'ROUND',\n",
       "  'AIR',\n",
       "  'HOLLYWOOD',\n",
       "  'HOSPITAL',\n",
       "  'MILLIONAIRE',\n",
       "  'PLATE',\n",
       "  'DINOSAUR',\n",
       "  'ORANGE',\n",
       "  'RAY'],\n",
       " 'guessed': [False,\n",
       "  False,\n",
       "  False,\n",
       "  False,\n",
       "  False,\n",
       "  False,\n",
       "  False,\n",
       "  False,\n",
       "  False,\n",
       "  False,\n",
       "  False,\n",
       "  False,\n",
       "  False,\n",
       "  False,\n",
       "  False,\n",
       "  False,\n",
       "  False,\n",
       "  False,\n",
       "  False,\n",
       "  False,\n",
       "  False,\n",
       "  False,\n",
       "  False,\n",
       "  False,\n",
       "  False],\n",
       " 'turn': (<Team.RED: 0>, <Role.SPYMASTER: 0>)}"
      ]
     },
     "execution_count": 2,
     "metadata": {},
     "output_type": "execute_result"
    }
   ],
   "source": [
    "env.state"
   ]
  },
  {
   "cell_type": "code",
   "execution_count": 3,
   "metadata": {},
   "outputs": [
    {
     "data": {
      "application/vnd.jupyter.widget-view+json": {
       "model_id": "c9395f71876140f497d8233fa8efdab7",
       "version_major": 2,
       "version_minor": 0
      },
      "text/plain": [
       "config.json:   0%|          | 0.00/878 [00:00<?, ?B/s]"
      ]
     },
     "metadata": {},
     "output_type": "display_data"
    },
    {
     "data": {
      "application/vnd.jupyter.widget-view+json": {
       "model_id": "78aec230155b41789befbf3937e88314",
       "version_major": 2,
       "version_minor": 0
      },
      "text/plain": [
       "model.safetensors.index.json:   0%|          | 0.00/20.9k [00:00<?, ?B/s]"
      ]
     },
     "metadata": {},
     "output_type": "display_data"
    },
    {
     "data": {
      "application/vnd.jupyter.widget-view+json": {
       "model_id": "1c9ece5d32204123bdb60fb667f7d107",
       "version_major": 2,
       "version_minor": 0
      },
      "text/plain": [
       "Downloading shards:   0%|          | 0/2 [00:00<?, ?it/s]"
      ]
     },
     "metadata": {},
     "output_type": "display_data"
    },
    {
     "data": {
      "application/vnd.jupyter.widget-view+json": {
       "model_id": "094c6fbf6cfe40c484104169b258907d",
       "version_major": 2,
       "version_minor": 0
      },
      "text/plain": [
       "model-00001-of-00002.safetensors:   0%|          | 0.00/4.97G [00:00<?, ?B/s]"
      ]
     },
     "metadata": {},
     "output_type": "display_data"
    },
    {
     "data": {
      "application/vnd.jupyter.widget-view+json": {
       "model_id": "fdd6dfde234e48748187a7209beb75e9",
       "version_major": 2,
       "version_minor": 0
      },
      "text/plain": [
       "model-00002-of-00002.safetensors:   0%|          | 0.00/1.46G [00:00<?, ?B/s]"
      ]
     },
     "metadata": {},
     "output_type": "display_data"
    },
    {
     "data": {
      "application/vnd.jupyter.widget-view+json": {
       "model_id": "6164894f44ff4759a4aa2dce3df81838",
       "version_major": 2,
       "version_minor": 0
      },
      "text/plain": [
       "Loading checkpoint shards:   0%|          | 0/2 [00:00<?, ?it/s]"
      ]
     },
     "metadata": {},
     "output_type": "display_data"
    },
    {
     "data": {
      "application/vnd.jupyter.widget-view+json": {
       "model_id": "bcc9e748a7834e9eb5df8a252d35833b",
       "version_major": 2,
       "version_minor": 0
      },
      "text/plain": [
       "generation_config.json:   0%|          | 0.00/189 [00:00<?, ?B/s]"
      ]
     },
     "metadata": {},
     "output_type": "display_data"
    },
    {
     "name": "stderr",
     "output_type": "stream",
     "text": [
      "WARNING:root:A <class 'transformers.models.llama.modeling_llama.LlamaForCausalLM'> model is loaded from 'meta-llama/Llama-3.2-3B-Instruct', and no v_head weight is found. This IS expected if you are not resuming PPO training.\n"
     ]
    },
    {
     "data": {
      "application/vnd.jupyter.widget-view+json": {
       "model_id": "637f0af8190a4adaadfd187397d31aae",
       "version_major": 2,
       "version_minor": 0
      },
      "text/plain": [
       "tokenizer_config.json:   0%|          | 0.00/54.5k [00:00<?, ?B/s]"
      ]
     },
     "metadata": {},
     "output_type": "display_data"
    },
    {
     "data": {
      "application/vnd.jupyter.widget-view+json": {
       "model_id": "46063c856e604e1d9a4681e611f1f38d",
       "version_major": 2,
       "version_minor": 0
      },
      "text/plain": [
       "tokenizer.json:   0%|          | 0.00/9.09M [00:00<?, ?B/s]"
      ]
     },
     "metadata": {},
     "output_type": "display_data"
    },
    {
     "data": {
      "application/vnd.jupyter.widget-view+json": {
       "model_id": "05fcc87d7e0044ceb454750ba68613a3",
       "version_major": 2,
       "version_minor": 0
      },
      "text/plain": [
       "special_tokens_map.json:   0%|          | 0.00/296 [00:00<?, ?B/s]"
      ]
     },
     "metadata": {},
     "output_type": "display_data"
    },
    {
     "name": "stderr",
     "output_type": "stream",
     "text": [
      "/home/yungdankblast/anaconda3/envs/codenames_ai/lib/python3.12/site-packages/trl/trainer/ppo_config.py:207: FutureWarning: `PPOConfig` is deprecated and will be removed in the future. Please use `PPOv2Config` with `PPOv2Trainer` instead.\n",
      "  warnings.warn(\n",
      "/home/yungdankblast/anaconda3/envs/codenames_ai/lib/python3.12/site-packages/trl/trainer/ppo_trainer.py:193: FutureWarning: `PPOTrainer` is deprecated and will be removed in trl v0.12. Please use `PPOv2Trainer` instead.\n",
      "  warnings.warn(\n"
     ]
    },
    {
     "ename": "",
     "evalue": "",
     "output_type": "error",
     "traceback": [
      "\u001b[1;31mThe Kernel crashed while executing code in the current cell or a previous cell. \n",
      "\u001b[1;31mPlease review the code in the cell(s) to identify a possible cause of the failure. \n",
      "\u001b[1;31mClick <a href='https://aka.ms/vscodeJupyterKernelCrash'>here</a> for more info. \n",
      "\u001b[1;31mView Jupyter <a href='command:jupyter.viewOutput'>log</a> for further details."
     ]
    }
   ],
   "source": [
    "from codenames.agents import Spymaster\n",
    "from codenames.constants import Team\n",
    "\n",
    "spymaster = Spymaster(team=Team.RED, model_name_or_path=\"meta-llama/Llama-3.2-3B-Instruct\")"
   ]
  },
  {
   "cell_type": "code",
   "execution_count": 4,
   "metadata": {},
   "outputs": [
    {
     "name": "stdout",
     "output_type": "stream",
     "text": [
      "You are the playing the game Codenames.\n",
      "Your role is the RED team's SPYMASTER.\n",
      "The current board state is as follows:\n",
      "\n",
      "RED Words:\n",
      "CROSS\n",
      "RING\n",
      "CRASH\n",
      "MILLIONAIRE\n",
      "CHECK\n",
      "PARACHUTE\n",
      "ANTARCTICA\n",
      "TRIANGLE\n",
      "FISH\n",
      "\n",
      "BLUE Words:\n",
      "FLUTE\n",
      "JAM\n",
      "DRAGON\n",
      "CHARGE\n",
      "LEPRECHAUN\n",
      "KING\n",
      "EMBASSY\n",
      "RABBIT\n",
      "\n",
      "NEUTRAL Words:\n",
      "PORT\n",
      "STATE\n",
      "BOOM\n",
      "PIPE\n",
      "MAPLE\n",
      "CROWN\n",
      "FLY\n",
      "\n",
      "ASSASSIN Words:\n",
      "FOOT\n",
      "\n",
      "Please provide a hint to the operatives on your team such that they guess the RED Team's words without guessing any of the other words.\n",
      "Do not use a hint word that is already on the board.\n",
      "Provide the hint in the format \"hint count\" (e.g. \"fruit 3\").\n",
      "\n",
      "Hint: \n"
     ]
    }
   ],
   "source": [
    "print(spymaster.get_prompt(env.state))"
   ]
  },
  {
   "cell_type": "code",
   "execution_count": 5,
   "metadata": {},
   "outputs": [
    {
     "name": "stderr",
     "output_type": "stream",
     "text": [
      "The attention mask is not set and cannot be inferred from input because pad token is same as eos token. As a consequence, you may observe unexpected behavior. Please pass your input's `attention_mask` to obtain reliable results.\n"
     ]
    },
    {
     "data": {
      "text/plain": [
       "'You are the playing the game Codenames.\\nYour role is the RED team\\'s SPYMASTER.\\nThe current board state is as follows:\\n\\nRED Words:\\nCROSS\\nRING\\nCRASH\\nMILLIONAIRE\\nCHECK\\nPARACHUTE\\nANTARCTICA\\nTRIANGLE\\nFISH\\n\\nBLUE Words:\\nFLUTE\\nJAM\\nDRAGON\\nCHARGE\\nLEPRECHAUN\\nKING\\nEMBASSY\\nRABBIT\\n\\nNEUTRAL Words:\\nPORT\\nSTATE\\nBOOM\\nPIPE\\nMAPLE\\nCROWN\\nFLY\\n\\nASSASSIN Words:\\nFOOT\\n\\nPlease provide a hint to the operatives on your team such that they guess the RED Team\\'s words without guessing any of the other words.\\nDo not use a hint word that is already on the board.\\nProvide the hint in the format \"hint count\" (e.g. \"fruit 3\").\\n\\nHint:  Involves you picking up a hook as a blow'"
      ]
     },
     "execution_count": 5,
     "metadata": {},
     "output_type": "execute_result"
    }
   ],
   "source": [
    "spymaster.get_action(env.state)"
   ]
  },
  {
   "cell_type": "code",
   "execution_count": null,
   "metadata": {},
   "outputs": [],
   "source": []
  }
 ],
 "metadata": {
  "kernelspec": {
   "display_name": "codenames_ai",
   "language": "python",
   "name": "python3"
  },
  "language_info": {
   "codemirror_mode": {
    "name": "ipython",
    "version": 3
   },
   "file_extension": ".py",
   "mimetype": "text/x-python",
   "name": "python",
   "nbconvert_exporter": "python",
   "pygments_lexer": "ipython3",
   "version": "3.12.6"
  }
 },
 "nbformat": 4,
 "nbformat_minor": 2
}
