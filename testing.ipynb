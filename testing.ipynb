{
 "cells": [
  {
   "cell_type": "code",
   "execution_count": 6,
   "metadata": {},
   "outputs": [],
   "source": [
    "from codenames.gym import CodenamesEnv\n",
    "\n",
    "env = CodenamesEnv()"
   ]
  },
  {
   "cell_type": "code",
   "execution_count": 7,
   "metadata": {},
   "outputs": [
    {
     "data": {
      "text/plain": [
       "{'board': [<Color.NEUTRAL: 2>,\n",
       "  <Color.BLUE: 1>,\n",
       "  <Color.NEUTRAL: 2>,\n",
       "  <Color.BLUE: 1>,\n",
       "  <Color.RED: 0>,\n",
       "  <Color.RED: 0>,\n",
       "  <Color.NEUTRAL: 2>,\n",
       "  <Color.BLUE: 1>,\n",
       "  <Color.BLUE: 1>,\n",
       "  <Color.NEUTRAL: 2>,\n",
       "  <Color.NEUTRAL: 2>,\n",
       "  <Color.NEUTRAL: 2>,\n",
       "  <Color.BLUE: 1>,\n",
       "  <Color.RED: 0>,\n",
       "  <Color.BLUE: 1>,\n",
       "  <Color.BLUE: 1>,\n",
       "  <Color.RED: 0>,\n",
       "  <Color.NEUTRAL: 2>,\n",
       "  <Color.RED: 0>,\n",
       "  <Color.RED: 0>,\n",
       "  <Color.RED: 0>,\n",
       "  <Color.BLUE: 1>,\n",
       "  <Color.RED: 0>,\n",
       "  <Color.RED: 0>,\n",
       "  <Color.ASSASSIN: 3>],\n",
       " 'words': ['DRILL',\n",
       "  'SMUGGLER',\n",
       "  'LONDON',\n",
       "  'LOCH NESS',\n",
       "  'SPIKE',\n",
       "  'PLANE',\n",
       "  'MERCURY',\n",
       "  'VACUUM',\n",
       "  'PALM',\n",
       "  'CRICKET',\n",
       "  'HOOK',\n",
       "  'FENCE',\n",
       "  'DWARF',\n",
       "  'CHICK',\n",
       "  'JAM',\n",
       "  'LOCK',\n",
       "  'BOX',\n",
       "  'ROULETTE',\n",
       "  'SWITCH',\n",
       "  'FISH',\n",
       "  'CROWN',\n",
       "  'CRASH',\n",
       "  'BEACH',\n",
       "  'SHARK',\n",
       "  'CLOAK'],\n",
       " 'guessed': [False,\n",
       "  False,\n",
       "  False,\n",
       "  False,\n",
       "  False,\n",
       "  False,\n",
       "  False,\n",
       "  False,\n",
       "  False,\n",
       "  False,\n",
       "  False,\n",
       "  False,\n",
       "  False,\n",
       "  False,\n",
       "  False,\n",
       "  False,\n",
       "  False,\n",
       "  False,\n",
       "  False,\n",
       "  False,\n",
       "  False,\n",
       "  False,\n",
       "  False,\n",
       "  False,\n",
       "  False],\n",
       " 'turn': (<Team.RED: 0>, <Role.SPYMASTER: 0>)}"
      ]
     },
     "execution_count": 7,
     "metadata": {},
     "output_type": "execute_result"
    }
   ],
   "source": [
    "env.state"
   ]
  },
  {
   "cell_type": "code",
   "execution_count": 9,
   "metadata": {},
   "outputs": [
    {
     "ename": "ValueError",
     "evalue": "Invalid board state value.",
     "output_type": "error",
     "traceback": [
      "\u001b[0;31m---------------------------------------------------------------------------\u001b[0m",
      "\u001b[0;31mValueError\u001b[0m                                Traceback (most recent call last)",
      "Cell \u001b[0;32mIn[9], line 1\u001b[0m\n\u001b[0;32m----> 1\u001b[0m obs, reward_n, done, info \u001b[38;5;241m=\u001b[39m \u001b[43menv\u001b[49m\u001b[38;5;241;43m.\u001b[39;49m\u001b[43mstep\u001b[49m\u001b[43m(\u001b[49m\u001b[38;5;124;43m\"\u001b[39;49m\u001b[38;5;124;43mBOX\u001b[39;49m\u001b[38;5;124;43m\"\u001b[39;49m\u001b[43m)\u001b[49m\n\u001b[1;32m      2\u001b[0m \u001b[38;5;28mprint\u001b[39m(reward_n)\n\u001b[1;32m      3\u001b[0m \u001b[38;5;28mprint\u001b[39m(info)\n",
      "File \u001b[0;32m~/CodenamesAI/codenames/gym.py:140\u001b[0m, in \u001b[0;36mCodenamesEnv.step\u001b[0;34m(self, action)\u001b[0m\n\u001b[1;32m    138\u001b[0m     winner \u001b[38;5;241m=\u001b[39m other_team\n\u001b[1;32m    139\u001b[0m \u001b[38;5;28;01melse\u001b[39;00m:\n\u001b[0;32m--> 140\u001b[0m     \u001b[38;5;28;01mraise\u001b[39;00m \u001b[38;5;167;01mValueError\u001b[39;00m(\u001b[38;5;124m\"\u001b[39m\u001b[38;5;124mInvalid board state value.\u001b[39m\u001b[38;5;124m\"\u001b[39m)\n\u001b[1;32m    142\u001b[0m \u001b[38;5;28;01mif\u001b[39;00m winner \u001b[38;5;129;01mis\u001b[39;00m \u001b[38;5;129;01mnot\u001b[39;00m \u001b[38;5;28;01mNone\u001b[39;00m:\n\u001b[1;32m    143\u001b[0m     not_winner \u001b[38;5;241m=\u001b[39m cn\u001b[38;5;241m.\u001b[39mTeam\u001b[38;5;241m.\u001b[39mBLUE \u001b[38;5;28;01mif\u001b[39;00m winner \u001b[38;5;241m==\u001b[39m cn\u001b[38;5;241m.\u001b[39mTeam\u001b[38;5;241m.\u001b[39mRED \u001b[38;5;28;01melse\u001b[39;00m cn\u001b[38;5;241m.\u001b[39mTeam\u001b[38;5;241m.\u001b[39mRED\n",
      "\u001b[0;31mValueError\u001b[0m: Invalid board state value."
     ]
    }
   ],
   "source": [
    "obs, reward_n, done, info = env.step(\"BOX\")\n",
    "print(reward_n)\n",
    "print(info)"
   ]
  },
  {
   "cell_type": "code",
   "execution_count": 2,
   "metadata": {},
   "outputs": [
    {
     "name": "stderr",
     "output_type": "stream",
     "text": [
      "WARNING:root:A <class 'transformers.models.llama.modeling_llama.LlamaForCausalLM'> model is loaded from 'meta-llama/Llama-3.2-1B-Instruct', and no v_head weight is found. This IS expected if you are not resuming PPO training.\n",
      "/home/yungdankblast/anaconda3/envs/codenames_ai/lib/python3.12/site-packages/trl/trainer/ppo_config.py:207: FutureWarning: `PPOConfig` is deprecated and will be removed in the future. Please use `PPOv2Config` with `PPOv2Trainer` instead.\n",
      "  warnings.warn(\n",
      "/home/yungdankblast/anaconda3/envs/codenames_ai/lib/python3.12/site-packages/trl/trainer/ppo_trainer.py:193: FutureWarning: `PPOTrainer` is deprecated and will be removed in trl v0.12. Please use `PPOv2Trainer` instead.\n",
      "  warnings.warn(\n",
      "/home/yungdankblast/anaconda3/envs/codenames_ai/lib/python3.12/site-packages/trl/trainer/ppo_trainer.py:273: UserWarning: No dataset is provided. Make sure to set config.batch_size to the correct value before training.\n",
      "  warnings.warn(\n"
     ]
    }
   ],
   "source": [
    "from codenames.agents import Spymaster\n",
    "from codenames.constants import Team\n",
    "\n",
    "spymaster = Spymaster(team=Team.RED, model_name_or_path=\"meta-llama/Llama-3.2-1B-Instruct\")"
   ]
  },
  {
   "cell_type": "code",
   "execution_count": 4,
   "metadata": {},
   "outputs": [
    {
     "name": "stdout",
     "output_type": "stream",
     "text": [
      "<|begin_of_text|><|start_header_id|>system<|end_header_id|>\n",
      "\n",
      "Cutting Knowledge Date: December 2023\n",
      "Today Date: 09 Oct 2024\n",
      "\n",
      "You are the playing the game Codenames as the RED team's Spymaster.\n",
      "You are only allowed to give a single word hint followed by a number of words that correspond to the hint.\n",
      "Provide no context or additional information.\n",
      "Do not use a hint word that is already on the board.\n",
      "Provide your hint word and number separated by a space in the format \"HINT NUMBER\".<|eot_id|><|start_header_id|>context<|end_header_id|>\n",
      "\n",
      "RED Words:\n",
      "HORSE\n",
      "MOLE\n",
      "AMBULANCE\n",
      "PILOT\n",
      "MEXICO\n",
      "RING\n",
      "NUT\n",
      "HOOK\n",
      "PUPIL\n",
      "\n",
      "BLUE Words:\n",
      "AMAZON\n",
      "WELL\n",
      "CONCERT\n",
      "IRON\n",
      "SUB\n",
      "ROW\n",
      "THEATER\n",
      "SCORPION\n",
      "\n",
      "NEUTRAL Words:\n",
      "BAR\n",
      "SLIP\n",
      "FILE\n",
      "BRUSH\n",
      "CENTER\n",
      "ANTARCTICA\n",
      "LEMON\n",
      "\n",
      "ASSASSIN Words:\n",
      "STAFF<|eot_id|><|start_header_id|>user<|end_header_id|>\n",
      "\n",
      "Please provide a single word hint and a number of related words to the operatives on your team such that they can guess some of the RED Team's words without guessing any of the other team's words, neutral words, or the assassin word(s).<|eot_id|>\n"
     ]
    }
   ],
   "source": [
    "print(spymaster.get_prompt(env.state))"
   ]
  },
  {
   "cell_type": "code",
   "execution_count": 5,
   "metadata": {},
   "outputs": [
    {
     "name": "stderr",
     "output_type": "stream",
     "text": [
      "The attention mask is not set and cannot be inferred from input because pad token is same as eos token. As a consequence, you may observe unexpected behavior. Please pass your input's `attention_mask` to obtain reliable results.\n",
      "Starting from v4.46, the `logits` model output will have the same type as the model (except at train time, where it will always be FP32)\n"
     ]
    },
    {
     "name": "stdout",
     "output_type": "stream",
     "text": [
      "Response: <|start_header_id|>assistant<|end_header_id|>\n",
      "\n",
      "1. HINT NUMBER\n",
      "1. FILE\n",
      "2. RING\n",
      "3. SCORPION\n",
      "4. BRUSH\n",
      "5. PUPIL\n",
      "6. BAR<|eot_id|>\n",
      "\n"
     ]
    }
   ],
   "source": [
    "action = spymaster.get_action(env.state)\n",
    "print(action)"
   ]
  },
  {
   "cell_type": "code",
   "execution_count": 1,
   "metadata": {},
   "outputs": [
    {
     "name": "stderr",
     "output_type": "stream",
     "text": [
      "WARNING:root:A <class 'transformers.models.llama.modeling_llama.LlamaForCausalLM'> model is loaded from 'meta-llama/Llama-3.2-1B-Instruct', and no v_head weight is found. This IS expected if you are not resuming PPO training.\n",
      "/home/yungdankblast/anaconda3/envs/codenames_ai/lib/python3.12/site-packages/trl/trainer/ppo_config.py:207: FutureWarning: `PPOConfig` is deprecated and will be removed in the future. Please use `PPOv2Config` with `PPOv2Trainer` instead.\n",
      "  warnings.warn(\n",
      "/home/yungdankblast/anaconda3/envs/codenames_ai/lib/python3.12/site-packages/trl/trainer/ppo_trainer.py:193: FutureWarning: `PPOTrainer` is deprecated and will be removed in trl v0.12. Please use `PPOv2Trainer` instead.\n",
      "  warnings.warn(\n",
      "/home/yungdankblast/anaconda3/envs/codenames_ai/lib/python3.12/site-packages/trl/trainer/ppo_trainer.py:273: UserWarning: No dataset is provided. Make sure to set config.batch_size to the correct value before training.\n",
      "  warnings.warn(\n"
     ]
    },
    {
     "name": "stdout",
     "output_type": "stream",
     "text": [
      "Observation State: {'board': [<Color.RED: 0>, <Color.BLUE: 1>, <Color.NEUTRAL: 2>, <Color.BLUE: 1>, <Color.RED: 0>, <Color.NEUTRAL: 2>, <Color.NEUTRAL: 2>, <Color.RED: 0>, <Color.NEUTRAL: 2>, <Color.RED: 0>, <Color.BLUE: 1>, <Color.BLUE: 1>, <Color.RED: 0>, <Color.BLUE: 1>, <Color.BLUE: 1>, <Color.RED: 0>, <Color.RED: 0>, <Color.ASSASSIN: 3>, <Color.RED: 0>, <Color.BLUE: 1>, <Color.BLUE: 1>, <Color.NEUTRAL: 2>, <Color.RED: 0>, <Color.NEUTRAL: 2>, <Color.NEUTRAL: 2>], 'words': ['PRINCESS', 'GOLD', 'TEMPLE', 'CENTER', 'POUND', 'HOSPITAL', 'POLICE', 'DINOSAUR', 'SCREEN', 'ROW', 'GLASS', 'MOUSE', 'BUCK', 'SCHOOL', 'LIGHT', 'HOLE', 'ROCK', 'FAIR', 'GLOVE', 'CYCLE', 'DANCE', 'CZECH', 'BALL', 'SHAKESPEARE', 'SPRING'], 'guessed': [False, False, False, False, False, False, False, False, False, False, False, False, False, False, False, False, False, False, False, False, False, False, False, False, False], 'turn': (<Team.RED: 0>, <Role.SPYMASTER: 0>)}\n"
     ]
    },
    {
     "name": "stderr",
     "output_type": "stream",
     "text": [
      "The attention mask is not set and cannot be inferred from input because pad token is same as eos token. As a consequence, you may observe unexpected behavior. Please pass your input's `attention_mask` to obtain reliable results.\n",
      "Starting from v4.46, the `logits` model output will have the same type as the model (except at train time, where it will always be FP32)\n"
     ]
    },
    {
     "name": "stdout",
     "output_type": "stream",
     "text": [
      "Response: <|start_header_id|>assistant<|end_header_id|>\n",
      "\n",
      "GOLD 1\n",
      "DINOSAUR\n",
      "BUCK\n",
      "HOLE\n",
      "ROCK\n",
      "GLOVE\n",
      "BALL\n",
      "CENTER\n",
      "LIGHT\n",
      "CZECH\n",
      "FAIR<|eot_id|>\n",
      "Spymaster's Action: GOLD 1\n",
      "Reward: -1\n",
      "Info: {'result': \"Invalid hint: ('GOLD', '1'). Hint word is on the board.\"}\n"
     ]
    },
    {
     "name": "stderr",
     "output_type": "stream",
     "text": [
      "/home/yungdankblast/anaconda3/envs/codenames_ai/lib/python3.12/site-packages/trl/trainer/ppo_trainer.py:1309: UserWarning: std(): degrees of freedom is <= 0. Correction should be strictly less than the reduction factor (input numel divided by output numel). (Triggered internally at ../aten/src/ATen/native/ReduceOps.cpp:1808.)\n",
      "  std_scores = data[\"scores\"].std()\n",
      "/home/yungdankblast/anaconda3/envs/codenames_ai/lib/python3.12/site-packages/trl/trainer/ppo_trainer.py:1336: UserWarning: std(): degrees of freedom is <= 0. Correction should be strictly less than the reduction factor (input numel divided by output numel). (Triggered internally at ../aten/src/ATen/native/ReduceOps.cpp:1808.)\n",
      "  stats[\"tokens/queries_len_std\"] = torch.std(query_lens).cpu().numpy().item()\n",
      "/home/yungdankblast/anaconda3/envs/codenames_ai/lib/python3.12/site-packages/trl/trainer/ppo_trainer.py:1339: UserWarning: std(): degrees of freedom is <= 0. Correction should be strictly less than the reduction factor (input numel divided by output numel). (Triggered internally at ../aten/src/ATen/native/ReduceOps.cpp:1808.)\n",
      "  stats[\"tokens/responses_len_std\"] = torch.std(response_lens).cpu().numpy().item()\n"
     ]
    },
    {
     "name": "stdout",
     "output_type": "stream",
     "text": [
      "Observation State: {'board': [<Color.RED: 0>, <Color.BLUE: 1>, <Color.NEUTRAL: 2>, <Color.BLUE: 1>, <Color.RED: 0>, <Color.NEUTRAL: 2>, <Color.NEUTRAL: 2>, <Color.RED: 0>, <Color.NEUTRAL: 2>, <Color.RED: 0>, <Color.BLUE: 1>, <Color.BLUE: 1>, <Color.RED: 0>, <Color.BLUE: 1>, <Color.BLUE: 1>, <Color.RED: 0>, <Color.RED: 0>, <Color.ASSASSIN: 3>, <Color.RED: 0>, <Color.BLUE: 1>, <Color.BLUE: 1>, <Color.NEUTRAL: 2>, <Color.RED: 0>, <Color.NEUTRAL: 2>, <Color.NEUTRAL: 2>], 'words': ['PRINCESS', 'GOLD', 'TEMPLE', 'CENTER', 'POUND', 'HOSPITAL', 'POLICE', 'DINOSAUR', 'SCREEN', 'ROW', 'GLASS', 'MOUSE', 'BUCK', 'SCHOOL', 'LIGHT', 'HOLE', 'ROCK', 'FAIR', 'GLOVE', 'CYCLE', 'DANCE', 'CZECH', 'BALL', 'SHAKESPEARE', 'SPRING'], 'guessed': [False, False, False, False, False, False, False, False, False, False, False, False, False, False, False, False, False, False, False, False, False, False, False, False, False], 'turn': (<Team.BLUE: 1>, <Role.SPYMASTER: 0>), 'hint': None}\n",
      "Response: <|start_header_id|>assistant<|end_header_id|>\n",
      "\n",
      "ASSASSIN 5<|eot_id|>\n",
      "Spymaster's Action: ASSASSIN 5\n",
      "Reward: 3\n",
      "Info: {'result': \"Valid hint: ('ASSASSIN', '5').\"}\n"
     ]
    },
    {
     "ename": "NameError",
     "evalue": "name 'random' is not defined",
     "output_type": "error",
     "traceback": [
      "\u001b[0;31m---------------------------------------------------------------------------\u001b[0m",
      "\u001b[0;31mNameError\u001b[0m                                 Traceback (most recent call last)",
      "Cell \u001b[0;32mIn[1], line 3\u001b[0m\n\u001b[1;32m      1\u001b[0m \u001b[38;5;28;01mfrom\u001b[39;00m \u001b[38;5;21;01mcodenames\u001b[39;00m \u001b[38;5;28;01mimport\u001b[39;00m spymaster_train\n\u001b[0;32m----> 3\u001b[0m \u001b[43mspymaster_train\u001b[49m\u001b[38;5;241;43m.\u001b[39;49m\u001b[43mcodenames_spymaster\u001b[49m\u001b[43m(\u001b[49m\n\u001b[1;32m      4\u001b[0m \u001b[43m    \u001b[49m\u001b[43mspymaster\u001b[49m\u001b[43m \u001b[49m\u001b[38;5;241;43m=\u001b[39;49m\u001b[43m \u001b[49m\u001b[38;5;124;43m\"\u001b[39;49m\u001b[38;5;124;43mmeta-llama/Llama-3.2-1B-Instruct\u001b[39;49m\u001b[38;5;124;43m\"\u001b[39;49m\u001b[43m,\u001b[49m\n\u001b[1;32m      5\u001b[0m \u001b[43m    \u001b[49m\u001b[43mnum_steps\u001b[49m\u001b[43m \u001b[49m\u001b[38;5;241;43m=\u001b[39;49m\u001b[43m \u001b[49m\u001b[38;5;241;43m1\u001b[39;49m\u001b[43m,\u001b[49m\n\u001b[1;32m      6\u001b[0m \u001b[43m    \u001b[49m\u001b[43mdo_train\u001b[49m\u001b[43m \u001b[49m\u001b[38;5;241;43m=\u001b[39;49m\u001b[43m \u001b[49m\u001b[38;5;28;43;01mTrue\u001b[39;49;00m\u001b[43m,\u001b[49m\n\u001b[1;32m      7\u001b[0m \u001b[43m)\u001b[49m\n",
      "File \u001b[0;32m~/CodenamesAI/codenames/spymaster_train.py:67\u001b[0m, in \u001b[0;36mcodenames_spymaster\u001b[0;34m(spymaster, board_shape, num_red, num_blue, num_assassin, word_file, allow_human_player, do_train, num_steps, save_dir)\u001b[0m\n\u001b[1;32m     65\u001b[0m \u001b[38;5;66;03m# Randomly choose words as guessed already (after first substep per team)\u001b[39;00m\n\u001b[1;32m     66\u001b[0m \u001b[38;5;28;01mif\u001b[39;00m num_red \u001b[38;5;241m>\u001b[39m \u001b[38;5;241m1\u001b[39m \u001b[38;5;129;01mand\u001b[39;00m num_blue \u001b[38;5;241m>\u001b[39m \u001b[38;5;241m1\u001b[39m:\n\u001b[0;32m---> 67\u001b[0m     indices \u001b[38;5;241m=\u001b[39m \u001b[43mrandom\u001b[49m\u001b[38;5;241m.\u001b[39mchoice(\u001b[38;5;28mrange\u001b[39m(env\u001b[38;5;241m.\u001b[39mnum_words), \u001b[38;5;28mmin\u001b[39m(num_red, num_blue)\u001b[38;5;241m-\u001b[39m\u001b[38;5;241m1\u001b[39m)\n\u001b[1;32m     68\u001b[0m     \u001b[38;5;28;01mfor\u001b[39;00m i \u001b[38;5;129;01min\u001b[39;00m indices:\n\u001b[1;32m     69\u001b[0m         env\u001b[38;5;241m.\u001b[39mstate[\u001b[38;5;124m'\u001b[39m\u001b[38;5;124mguessed\u001b[39m\u001b[38;5;124m'\u001b[39m][i] \u001b[38;5;241m=\u001b[39m \u001b[38;5;28;01mTrue\u001b[39;00m\n",
      "\u001b[0;31mNameError\u001b[0m: name 'random' is not defined"
     ]
    }
   ],
   "source": [
    "from codenames import spymaster_train\n",
    "\n",
    "spymaster_train.codenames_spymaster(\n",
    "    spymaster = \"meta-llama/Llama-3.2-1B-Instruct\",\n",
    "    num_steps = 1,\n",
    "    do_train = True,\n",
    ")"
   ]
  },
  {
   "cell_type": "code",
   "execution_count": null,
   "metadata": {},
   "outputs": [],
   "source": []
  }
 ],
 "metadata": {
  "kernelspec": {
   "display_name": "codenames_ai",
   "language": "python",
   "name": "python3"
  },
  "language_info": {
   "codemirror_mode": {
    "name": "ipython",
    "version": 3
   },
   "file_extension": ".py",
   "mimetype": "text/x-python",
   "name": "python",
   "nbconvert_exporter": "python",
   "pygments_lexer": "ipython3",
   "version": "3.12.6"
  }
 },
 "nbformat": 4,
 "nbformat_minor": 2
}
